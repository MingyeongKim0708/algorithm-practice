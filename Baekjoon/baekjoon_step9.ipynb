{
 "cells": [
  {
   "cell_type": "markdown",
   "metadata": {},
   "source": [
    "### 백준 9단계\n",
    "#### 약수, 배수와 소수\n",
    "\n",
    "> jupyter 에서는 stdin 이 제대로 구성되어 있지 않기 때문에 stdin.readline() 을 실행하면 입력을 받지 못하고 항상 빈 문자열이 반환됩니다.  \n",
    "> sydin.readline() 대신에 input() 을 사용해야 합니다."
   ]
  },
  {
   "cell_type": "markdown",
   "metadata": {},
   "source": [
    "---\n",
    "\n",
    "`백준 2581` **소수**  \n",
    "> 문제  \n",
    "\n",
    "자연수 M과 N이 주어질 때 M이상 N이하의 자연수 중 소수인 것을 모두 골라 이들 소수의 합과 최솟값을 찾는 프로그램을 작성하시오.\n",
    "\n",
    "예를 들어 M=60, N=100인 경우 60이상 100이하의 자연수 중 소수는 61, 67, 71, 73, 79, 83, 89, 97 총 8개가 있으므로, 이들 소수의 합은 620이고, 최솟값은 61이 된다.\n",
    "\n",
    "> 입력  \n",
    "\n",
    "입력의 첫째 줄에 M이, 둘째 줄에 N이 주어진다.\n",
    "\n",
    "M과 N은 10,000이하의 자연수이며, M은 N보다 작거나 같다.\n",
    "\n",
    "> 출력\n",
    "\n",
    "M이상 N이하의 자연수 중 소수인 것을 모두 찾아 첫째 줄에 그 합을, 둘째 줄에 그 중 최솟값을 출력한다. \n",
    "\n",
    "단, M이상 N이하의 자연수 중 소수가 없을 경우는 첫째 줄에 -1을 출력한다.\n",
    "\n",
    "> 예시 입력 1\n",
    "```txt\n",
    "60\n",
    "100\n",
    "```\n",
    "\n",
    "> 예시 출력 1\n",
    "```txt\n",
    "620\n",
    "61\n",
    "```\n"
   ]
  },
  {
   "cell_type": "code",
   "execution_count": null,
   "metadata": {},
   "outputs": [],
   "source": [
    "M = int(input())\n",
    "N = int(input())\n",
    "lst = []\n",
    "for num in range(M, N+1):\n",
    "    if num > 1:\n",
    "        is_prime = True\n",
    "        for i in range(2, int(num**0.5) + 1):\n",
    "            if num % i == 0:\n",
    "                is_prime = False\n",
    "                break\n",
    "        if is_prime:\n",
    "            lst.append(num)\n",
    "\n",
    "if len(lst) == 0:\n",
    "    print(-1)\n",
    "else:\n",
    "    print(sum(lst))\n",
    "    print(min(lst))\n",
    "\n",
    "# 런타임에러(Name Error)"
   ]
  },
  {
   "cell_type": "markdown",
   "metadata": {},
   "source": [
    "---\n",
    "\n",
    "`백준 11653` **소인수분해**  \n",
    "> 문제  \n",
    "\n",
    "정수 N이 주어졌을 때, 소인수분해하는 프로그램을 작성하시오.\n",
    "\n",
    "> 입력  \n",
    "\n",
    "첫째 줄에 정수 N (1 ≤ N ≤ 10,000,000)이 주어진다.\n",
    "\n",
    "> 출력\n",
    "\n",
    "N의 소인수분해 결과를 한 줄에 하나씩 오름차순으로 출력한다. N이 1인 경우 아무것도 출력하지 않는다.\n",
    "\n",
    "> 예시 입력 1\n",
    "```txt\n",
    "72\n",
    "```\n",
    "\n",
    "> 예시 출력 1\n",
    "```txt\n",
    "2\n",
    "2\n",
    "2\n",
    "3\n",
    "3\n",
    "```\n"
   ]
  },
  {
   "cell_type": "code",
   "execution_count": null,
   "metadata": {},
   "outputs": [],
   "source": [
    "N = int(input())\n",
    "\n",
    "i = 2\n",
    "while N != 1:\n",
    "    if N % i == 0:\n",
    "        N //= i\n",
    "        print(i)\n",
    "    else:\n",
    "        i += 1"
   ]
  }
 ],
 "metadata": {
  "kernelspec": {
   "display_name": "Python 3",
   "language": "python",
   "name": "python3"
  },
  "language_info": {
   "codemirror_mode": {
    "name": "ipython",
    "version": 3
   },
   "file_extension": ".py",
   "mimetype": "text/x-python",
   "name": "python",
   "nbconvert_exporter": "python",
   "pygments_lexer": "ipython3",
   "version": "3.12.4"
  }
 },
 "nbformat": 4,
 "nbformat_minor": 2
}
