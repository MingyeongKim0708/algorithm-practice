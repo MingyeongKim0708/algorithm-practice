{
 "cells": [
  {
   "cell_type": "markdown",
   "metadata": {},
   "source": [
    "### 백준 5단계\n",
    "#### 문자열\n",
    "\n",
    "> jupyter 에서는 stdin 이 제대로 구성되어 있지 않기 때문에 stdin.readline() 을 실행하면 입력을 받지 못하고 항상 빈 문자열이 반환됩니다.  \n",
    "> sydin.readline() 대신에 input() 을 사용해야 합니다."
   ]
  },
  {
   "cell_type": "markdown",
   "metadata": {},
   "source": [
    "---\n",
    "\n",
    "`백준 27866` **문자와 문자열**  \n",
    "> 문제  \n",
    "\n",
    "단어 \n",
    "$S$와 정수 \n",
    "$i$가 주어졌을 때, \n",
    "$S$의 \n",
    "$i$번째 글자를 출력하는 프로그램을 작성하시오.\n",
    "\n",
    "> 입력  \n",
    "\n",
    "첫째 줄에 영어 소문자와 대문자로만 이루어진 단어 \n",
    "$S$가 주어진다. 단어의 길이는 최대 \n",
    "$1\\,000$이다.\n",
    "\n",
    "둘째 줄에 정수 \n",
    "$i$가 주어진다. (\n",
    "$1 \\le i \\le \\left|S\\right|$)\n",
    "\n",
    "> 출력\n",
    "\n",
    "$S$의 \n",
    "$i$번째 글자를 출력한다.\n",
    "\n",
    "> 예시 입력 1\n",
    "```txt\n",
    "Sprout\n",
    "3\n",
    "```\n",
    "\n",
    "> 예시 출력 1\n",
    "```txt\n",
    "r\n",
    "```\n"
   ]
  },
  {
   "cell_type": "code",
   "execution_count": null,
   "metadata": {},
   "outputs": [],
   "source": [
    "s = input()\n",
    "i = int(input())\n",
    "print(s[i+1])"
   ]
  },
  {
   "cell_type": "markdown",
   "metadata": {},
   "source": [
    "---\n",
    "\n",
    "`백준 2743` **단어 길이 재기**  \n",
    "> 문제  \n",
    "\n",
    "알파벳으로만 이루어진 단어를 입력받아, 그 길이를 출력하는 프로그램을 작성하시오.\n",
    "\n",
    "> 입력  \n",
    "\n",
    "첫째 줄에 영어 소문자와 대문자로만 이루어진 단어가 주어진다. 단어의 길이는 최대 100이다.\n",
    "\n",
    "> 출력\n",
    "\n",
    "첫째 줄에 입력으로 주어진 단어의 길이를 출력한다.\n",
    "\n",
    "> 예시 입력 1\n",
    "```txt\n",
    "pulljima\n",
    "```\n",
    "\n",
    "> 예시 출력 1\n",
    "```txt\n",
    "8\n",
    "```\n"
   ]
  },
  {
   "cell_type": "code",
   "execution_count": 2,
   "metadata": {},
   "outputs": [
    {
     "name": "stdout",
     "output_type": "stream",
     "text": [
      "8\n"
     ]
    }
   ],
   "source": [
    "s = input()\n",
    "print(len(s))"
   ]
  },
  {
   "cell_type": "markdown",
   "metadata": {},
   "source": [
    "---\n",
    "\n",
    "`백준 9086` **문자열**  \n",
    "> 문제  \n",
    "\n",
    "문자열을 입력으로 주면 문자열의 첫 글자와 마지막 글자를 출력하는 프로그램을 작성하시오.\n",
    "\n",
    "> 입력  \n",
    "\n",
    "입력의 첫 줄에는 테스트 케이스의 개수 T(1 ≤ T ≤ 10)가 주어진다. 각 테스트 케이스는 한 줄에 하나의 문자열이 주어진다. 문자열은 알파벳 A~Z 대문자로 이루어지며 알파벳 사이에 공백은 없으며 문자열의 길이는 1000보다 작다.\n",
    "\n",
    "> 출력\n",
    "\n",
    "각 테스트 케이스에 대해서 주어진 문자열의 첫 글자와 마지막 글자를 연속하여 출력한다.\n",
    "\n",
    "> 예시 입력 1\n",
    "```txt\n",
    "3\n",
    "ACDKJFOWIEGHE\n",
    "O\n",
    "AB\n",
    "```\n",
    "\n",
    "> 예시 출력 1\n",
    "```txt\n",
    "AE\n",
    "OO\n",
    "AB\n",
    "```\n"
   ]
  },
  {
   "cell_type": "code",
   "execution_count": 6,
   "metadata": {},
   "outputs": [
    {
     "name": "stdout",
     "output_type": "stream",
     "text": [
      "AE\n"
     ]
    }
   ],
   "source": [
    "T = int(input())\n",
    "for i in range(T):\n",
    "    s = input()\n",
    "    print(s[0],s[-1], sep='')"
   ]
  },
  {
   "cell_type": "markdown",
   "metadata": {},
   "source": [
    "---\n",
    "\n",
    "`백준 11654` **아스키 코드**  \n",
    "> 문제  \n",
    "\n",
    "알파벳 소문자, 대문자, 숫자 0-9중 하나가 주어졌을 때, 주어진 글자의 아스키 코드값을 출력하는 프로그램을 작성하시오.\n",
    "\n",
    "> 입력  \n",
    "\n",
    "알파벳 소문자, 대문자, 숫자 0-9 중 하나가 첫째 줄에 주어진다.\n",
    "\n",
    "> 출력\n",
    "\n",
    "입력으로 주어진 글자의 아스키 코드 값을 출력한다.\n",
    "\n",
    "> 예시 입력 1\n",
    "```txt\n",
    "A\n",
    "```\n",
    "\n",
    "> 예시 출력 1\n",
    "```txt\n",
    "65\n",
    "```\n"
   ]
  },
  {
   "cell_type": "code",
   "execution_count": 9,
   "metadata": {},
   "outputs": [
    {
     "name": "stdout",
     "output_type": "stream",
     "text": [
      "48\n"
     ]
    }
   ],
   "source": [
    "s = input()\n",
    "print(ord(s))"
   ]
  },
  {
   "cell_type": "markdown",
   "metadata": {},
   "source": [
    "---\n",
    "\n",
    "`백준 11720` **숫자의 합**  \n",
    "> 문제  \n",
    "\n",
    "N개의 숫자가 공백 없이 쓰여있다. 이 숫자를 모두 합해서 출력하는 프로그램을 작성하시오.\n",
    "\n",
    "> 입력  \n",
    "\n",
    "첫째 줄에 숫자의 개수 N (1 ≤ N ≤ 100)이 주어진다. 둘째 줄에 숫자 N개가 공백없이 주어진다.\n",
    "\n",
    "> 출력\n",
    "\n",
    "입력으로 주어진 숫자 N개의 합을 출력한다.\n",
    "\n",
    "> 예시 입력 1\n",
    "```txt\n",
    "1\n",
    "1\n",
    "```\n",
    "\n",
    "> 예시 출력 1\n",
    "```txt\n",
    "1\n",
    "```\n"
   ]
  },
  {
   "cell_type": "code",
   "execution_count": 13,
   "metadata": {},
   "outputs": [
    {
     "name": "stdout",
     "output_type": "stream",
     "text": [
      "46\n"
     ]
    }
   ],
   "source": [
    "T = int(input())\n",
    "s = input()\n",
    "ss = 0\n",
    "for i in range (T):\n",
    "    ss += int(s[i])\n",
    "print(ss)"
   ]
  },
  {
   "cell_type": "markdown",
   "metadata": {},
   "source": [
    "---\n",
    "\n",
    "`백준 10809` **알파벳 찾기**  \n",
    "> 문제  \n",
    "\n",
    "알파벳 소문자로만 이루어진 단어 S가 주어진다. 각각의 알파벳에 대해서, 단어에 포함되어 있는 경우에는 처음 등장하는 위치를, 포함되어 있지 않은 경우에는 -1을 출력하는 프로그램을 작성하시오.\n",
    "\n",
    "> 입력  \n",
    "\n",
    "첫째 줄에 단어 S가 주어진다. 단어의 길이는 100을 넘지 않으며, 알파벳 소문자로만 이루어져 있다.\n",
    "\n",
    "> 출력\n",
    "\n",
    "각각의 알파벳에 대해서, a가 처음 등장하는 위치, b가 처음 등장하는 위치, ... z가 처음 등장하는 위치를 공백으로 구분해서 출력한다.\n",
    "\n",
    "만약, 어떤 알파벳이 단어에 포함되어 있지 않다면 -1을 출력한다. 단어의 첫 번째 글자는 0번째 위치이고, 두 번째 글자는 1번째 위치이다.\n",
    "\n",
    "> 예시 입력 1\n",
    "```txt\n",
    "baekjoon\n",
    "```\n",
    "\n",
    "> 예시 출력 1\n",
    "```txt\n",
    "1 0 -1 -1 2 -1 -1 -1 -1 4 3 -1 -1 7 5 -1 -1 -1 -1 -1 -1 -1 -1 -1 -1 -1\n",
    "```\n"
   ]
  },
  {
   "cell_type": "code",
   "execution_count": 19,
   "metadata": {},
   "outputs": [
    {
     "name": "stdout",
     "output_type": "stream",
     "text": [
      "1 0 -1 -1 2 -1 -1 -1 -1 4 3 -1 -1 7 5 -1 -1 -1 -1 -1 -1 -1 -1 -1 -1 -1\n"
     ]
    }
   ],
   "source": [
    "s = input()\n",
    "answer = []\n",
    "\n",
    "# chr(97) ~ chr(122) a ~ z\n",
    "for i in range (97,  123):\n",
    "    answer.append(s.find(chr(i)))\n",
    "\n",
    "print(' '.join(str(s) for s in answer))"
   ]
  },
  {
   "cell_type": "markdown",
   "metadata": {},
   "source": [
    "---\n",
    "\n",
    "`백준 2675` **문자열 반복**  \n",
    "> 문제  \n",
    "\n",
    "문자열 S를 입력받은 후에, 각 문자를 R번 반복해 새 문자열 P를 만든 후 출력하는 프로그램을 작성하시오. 즉, 첫 번째 문자를 R번 반복하고, 두 번째 문자를 R번 반복하는 식으로 P를 만들면 된다. S에는 QR Code \"alphanumeric\" 문자만 들어있다.\n",
    "\n",
    "QR Code \"alphanumeric\" 문자는 0123456789ABCDEFGHIJKLMNOPQRSTUVWXYZ\\$%*+-./: 이다.\n",
    "\n",
    "> 입력  \n",
    "\n",
    "첫째 줄에 테스트 케이스의 개수 T(1 ≤ T ≤ 1,000)가 주어진다. 각 테스트 케이스는 반복 횟수 R(1 ≤ R ≤ 8), 문자열 S가 공백으로 구분되어 주어진다. S의 길이는 적어도 1이며, 20글자를 넘지 않는다. \n",
    "\n",
    "> 출력\n",
    "\n",
    "각 테스트 케이스에 대해 P를 출력한다.\n",
    "\n",
    "> 예시 입력 1\n",
    "```txt\n",
    "2\n",
    "3 ABC\n",
    "5 /HTP\n",
    "```\n",
    "\n",
    "> 예시 출력 1\n",
    "```txt\n",
    "AAABBBCCC\n",
    "/////HHHHHTTTTTPPPPP\n",
    "```\n"
   ]
  },
  {
   "cell_type": "code",
   "execution_count": 25,
   "metadata": {},
   "outputs": [
    {
     "name": "stdout",
     "output_type": "stream",
     "text": [
      "AAABBBCCC\n",
      "/////HHHHHTTTTTPPPPP\n"
     ]
    }
   ],
   "source": [
    "T = int(input())\n",
    "\n",
    "for tc in range(T):\n",
    "    num, s = input().split()\n",
    "    n = int(num)\n",
    "    for i in range(len(s)):\n",
    "        print(s[i] * n, end='')\n",
    "    print()\n"
   ]
  },
  {
   "cell_type": "markdown",
   "metadata": {},
   "source": [
    "---\n",
    "\n",
    "`백준 1152` **단어의 개수**  \n",
    "> 문제  \n",
    "\n",
    "영어 대소문자와 공백으로 이루어진 문자열이 주어진다. 이 문자열에는 몇 개의 단어가 있을까? 이를 구하는 프로그램을 작성하시오. 단, 한 단어가 여러 번 등장하면 등장한 횟수만큼 모두 세어야 한다.\n",
    "\n",
    "> 입력  \n",
    "\n",
    "첫 줄에 영어 대소문자와 공백으로 이루어진 문자열이 주어진다. 이 문자열의 길이는 1,000,000을 넘지 않는다. 단어는 공백 한 개로 구분되며, 공백이 연속해서 나오는 경우는 없다. 또한 문자열은 공백으로 시작하거나 끝날 수 있다.\n",
    "\n",
    "> 출력\n",
    "\n",
    "첫째 줄에 단어의 개수를 출력한다.\n",
    "\n",
    "> 예시 입력 1\n",
    "```txt\n",
    "The Curious Case of Benjamin Button\n",
    "```\n",
    "\n",
    "> 예시 출력 1\n",
    "```txt\n",
    "6\n",
    "```\n"
   ]
  },
  {
   "cell_type": "code",
   "execution_count": 27,
   "metadata": {},
   "outputs": [
    {
     "name": "stdout",
     "output_type": "stream",
     "text": [
      "6\n"
     ]
    }
   ],
   "source": [
    "s_list = input().split()\n",
    "\n",
    "print(len(s_list))"
   ]
  },
  {
   "cell_type": "markdown",
   "metadata": {},
   "source": [
    "---\n",
    "\n",
    "`백준 2908` **상수**  \n",
    "> 문제  \n",
    "\n",
    "상근이의 동생 상수는 수학을 정말 못한다. 상수는 숫자를 읽는데 문제가 있다. 이렇게 수학을 못하는 상수를 위해서 상근이는 수의 크기를 비교하는 문제를 내주었다. 상근이는 세 자리 수 두 개를 칠판에 써주었다. 그 다음에 크기가 큰 수를 말해보라고 했다.\n",
    "\n",
    "상수는 수를 다른 사람과 다르게 거꾸로 읽는다. 예를 들어, 734와 893을 칠판에 적었다면, 상수는 이 수를 437과 398로 읽는다. 따라서, 상수는 두 수중 큰 수인 437을 큰 수라고 말할 것이다.\n",
    "\n",
    "두 수가 주어졌을 때, 상수의 대답을 출력하는 프로그램을 작성하시오.\n",
    "\n",
    "> 입력  \n",
    "\n",
    "첫째 줄에 상근이가 칠판에 적은 두 수 A와 B가 주어진다. 두 수는 같지 않은 세 자리 수이며, 0이 포함되어 있지 않다.\n",
    "\n",
    "> 출력\n",
    "\n",
    "첫째 줄에 상수의 대답을 출력한다.\n",
    "\n",
    "> 예시 입력 1\n",
    "```txt\n",
    "734 893\n",
    "```\n",
    "\n",
    "> 예시 출력 1\n",
    "```txt\n",
    "437\n",
    "```\n"
   ]
  },
  {
   "cell_type": "code",
   "execution_count": 30,
   "metadata": {},
   "outputs": [
    {
     "name": "stdout",
     "output_type": "stream",
     "text": [
      "938\n"
     ]
    }
   ],
   "source": [
    "a, b = input().split()\n",
    "\n",
    "a_rev = int(a[::-1])\n",
    "b_rev = int(b[::-1])\n",
    "\n",
    "if a_rev > b_rev:\n",
    "    print(a_rev)\n",
    "else :\n",
    "    print(b_rev)"
   ]
  },
  {
   "cell_type": "markdown",
   "metadata": {},
   "source": [
    "---\n",
    "\n",
    "`백준 5622` **다이얼**  \n",
    "> 문제  \n",
    "\n",
    "상근이의 할머니는 아래 그림과 같이 오래된 다이얼 전화기를 사용한다.\n",
    "\n",
    "![이미지](https://u.acmicpc.net/9c88dd24-3a4c-4a09-bc50-e6496958214d/Screen%20Shot%202021-06-16%20at%2012.48.39%20AM.png)\n",
    "\n",
    "전화를 걸고 싶은 번호가 있다면, 숫자를 하나를 누른 다음에 금속 핀이 있는 곳 까지 시계방향으로 돌려야 한다. 숫자를 하나 누르면 다이얼이 처음 위치로 돌아가고, 다음 숫자를 누르려면 다이얼을 처음 위치에서 다시 돌려야 한다.\n",
    "\n",
    "숫자 1을 걸려면 총 2초가 필요하다. 1보다 큰 수를 거는데 걸리는 시간은 이보다 더 걸리며, 한 칸 옆에 있는 숫자를 걸기 위해선 1초씩 더 걸린다.\n",
    "\n",
    "상근이의 할머니는 전화 번호를 각 숫자에 해당하는 문자로 외운다. 즉, 어떤 단어를 걸 때, 각 알파벳에 해당하는 숫자를 걸면 된다. 예를 들어, UNUCIC는 868242와 같다.\n",
    "\n",
    "할머니가 외운 단어가 주어졌을 때, 이 전화를 걸기 위해서 필요한 최소 시간을 구하는 프로그램을 작성하시오.\n",
    "\n",
    "> 입력  \n",
    "\n",
    "첫째 줄에 알파벳 대문자로 이루어진 단어가 주어진다. 단어의 길이는 2보다 크거나 같고, 15보다 작거나 같다.\n",
    "\n",
    "> 출력\n",
    "\n",
    "첫째 줄에 다이얼을 걸기 위해서 필요한 최소 시간을 출력한다.\n",
    "\n",
    "> 예시 입력 1\n",
    "```txt\n",
    "WA\n",
    "```\n",
    "\n",
    "> 예시 출력 1\n",
    "```txt\n",
    "13\n",
    "```\n"
   ]
  },
  {
   "cell_type": "code",
   "execution_count": 37,
   "metadata": {},
   "outputs": [
    {
     "name": "stdout",
     "output_type": "stream",
     "text": [
      "36\n"
     ]
    }
   ],
   "source": [
    "s = input()\n",
    "tel = 0\n",
    "\n",
    "for letter in s :\n",
    "    if 65 <= ord(letter) < 68:\n",
    "        tel += 3\n",
    "    elif 68 <= ord(letter) < 71:\n",
    "        tel += 4\n",
    "    elif 71 <= ord(letter) < 74:\n",
    "        tel += 5\n",
    "    elif 74 <= ord(letter) < 77:\n",
    "        tel += 6\n",
    "    elif 77 <= ord(letter) < 80:\n",
    "        tel += 7\n",
    "    elif 80 <= ord(letter) < 84:\n",
    "        tel += 8\n",
    "    elif 84 <= ord(letter) < 87:\n",
    "        tel += 9\n",
    "    elif 87 <= ord(letter) < 91:\n",
    "        tel += 10\n",
    "\n",
    "print(tel)"
   ]
  },
  {
   "cell_type": "markdown",
   "metadata": {},
   "source": [
    "---\n",
    "\n",
    "`백준 11718` **그대로 출력하기**  \n",
    "> 문제  \n",
    "\n",
    "입력 받은 대로 출력하는 프로그램을 작성하시오.\n",
    "\n",
    "> 입력  \n",
    "\n",
    "입력이 주어진다. 입력은 최대 100줄로 이루어져 있고, 알파벳 소문자, 대문자, 공백, 숫자로만 이루어져 있다. 각 줄은 100글자를 넘지 않으며, 빈 줄은 주어지지 않는다. 또, 각 줄은 공백으로 시작하지 않고, 공백으로 끝나지 않는다.\n",
    "\n",
    "> 출력\n",
    "\n",
    "입력받은 그대로 출력한다.\n",
    "\n",
    "> 예시 입력 1\n",
    "```txt\n",
    "Hello\n",
    "Baekjoon\n",
    "Online Judge\n",
    "```\n",
    "\n",
    "> 예시 출력 1\n",
    "```txt\n",
    "Hello\n",
    "Baekjoon\n",
    "Online Judge\n",
    "```\n"
   ]
  },
  {
   "cell_type": "markdown",
   "metadata": {},
   "source": [
    "sys.stdin.readline은 입력이 없어도 에러가 나지 않고 정상적으로 빈 문자열을 반환합니다."
   ]
  },
  {
   "cell_type": "code",
   "execution_count": 40,
   "metadata": {},
   "outputs": [],
   "source": [
    "while (True) :\n",
    "    try:\n",
    "        s = input()\n",
    "        print(s)\n",
    "        if len(s) == '':\n",
    "            break\n",
    "    except EOFError:\n",
    "        break"
   ]
  }
 ],
 "metadata": {
  "kernelspec": {
   "display_name": "Python 3",
   "language": "python",
   "name": "python3"
  },
  "language_info": {
   "codemirror_mode": {
    "name": "ipython",
    "version": 3
   },
   "file_extension": ".py",
   "mimetype": "text/x-python",
   "name": "python",
   "nbconvert_exporter": "python",
   "pygments_lexer": "ipython3",
   "version": "3.12.4"
  }
 },
 "nbformat": 4,
 "nbformat_minor": 2
}
