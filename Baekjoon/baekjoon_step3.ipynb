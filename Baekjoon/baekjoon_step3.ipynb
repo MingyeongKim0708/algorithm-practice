{
 "cells": [
  {
   "cell_type": "markdown",
   "metadata": {},
   "source": [
    "### 백준 3단계\n",
    "#### 반복문\n",
    "\n",
    "jupyter 에서는 stdin 이 제대로 구성되어 있지 않기 때문에 stdin.readline() 을 실행하면 입력을 받지 못하고 항상 빈 문자열이 반환됩니다.  \n",
    "\n",
    "sydin.readline() 대신에 input() 을 사용해야 합니다."
   ]
  },
  {
   "cell_type": "markdown",
   "metadata": {},
   "source": [
    "- - -\n",
    "`백준 2939` **구구단**  \n",
    "> 문제  \n",
    "\n",
    "N을 입력받은 뒤, 구구단 N단을 출력하는 프로그램을 작성하시오. 출력 형식에 맞춰서 출력하면 된다.   \n",
    "\n",
    "> 입력  \n",
    "\n",
    "첫째 줄에 N이 주어진다. N은 1보다 크거나 같고, 9보다 작거나 같다.  \n",
    "\n",
    "> 출력\n",
    "\n",
    "출력형식과 같게 N\\*1부터 N\\*9까지 출력한다."
   ]
  },
  {
   "cell_type": "code",
   "execution_count": 1,
   "metadata": {},
   "outputs": [
    {
     "name": "stdout",
     "output_type": "stream",
     "text": [
      "2 * 1 = 2\n",
      "2 * 2 = 4\n",
      "2 * 3 = 6\n",
      "2 * 4 = 8\n",
      "2 * 5 = 10\n",
      "2 * 6 = 12\n",
      "2 * 7 = 14\n",
      "2 * 8 = 16\n",
      "2 * 9 = 18\n"
     ]
    }
   ],
   "source": [
    "a = int(input())\n",
    "\n",
    "for i in range(1, 10) :\n",
    "    print(\"%d * %d = %d\" % (a, i, a*i))"
   ]
  },
  {
   "cell_type": "markdown",
   "metadata": {},
   "source": [
    "- - -\n",
    "`백준 10950` **A+B - 3**  \n",
    "> 문제  \n",
    "\n",
    "두 정수 A와 B를 입력받은 다음, A+B를 출력하는 프로그램을 작성하시오.\n",
    "\n",
    "> 입력  \n",
    "\n",
    "첫째 줄에 테스트 케이스의 개수 T가 주어진다.  \n",
    "각 테스트 케이스는 한 줄로 이루어져 있으며, 각 줄에 A와 B가 주어진다. (0 < A, B < 10)  \n",
    "\n",
    "> 출력\n",
    "\n",
    "각 테스트 케이스마다 A+B를 출력한다."
   ]
  },
  {
   "cell_type": "code",
   "execution_count": 2,
   "metadata": {},
   "outputs": [
    {
     "name": "stdout",
     "output_type": "stream",
     "text": [
      "2\n",
      "5\n",
      "7\n",
      "17\n",
      "7\n"
     ]
    }
   ],
   "source": [
    "T = int(input())\n",
    "\n",
    "for test_case in range(T) :\n",
    "    a, b = map(int, input().split())\n",
    "    print(a+b)"
   ]
  },
  {
   "cell_type": "markdown",
   "metadata": {},
   "source": [
    "- - -\n",
    "`백준 10950` **합**  \n",
    "> 문제\n",
    "\n",
    "n이 주어졌을 때, 1부터 n까지 합을 구하는 프로그램을 작성하시오.  \n",
    "\n",
    "> 입력\n",
    "\n",
    "첫째 줄에 n (1 ≤ n ≤ 10,000)이 주어진다.  \n",
    "\n",
    "> 출력\n",
    "\n",
    "1부터 n까지 합을 출력한다.\n",
    "\n",
    "> 예제 입력 1\n",
    "\n",
    "3\n",
    "\n",
    "> 예제 출력 1\n",
    "\n",
    "6"
   ]
  },
  {
   "cell_type": "code",
   "execution_count": 21,
   "metadata": {},
   "outputs": [
    {
     "name": "stdout",
     "output_type": "stream",
     "text": [
      "6\n"
     ]
    }
   ],
   "source": [
    "a = int(input())\n",
    "sum = 0\n",
    "for i in range(a):\n",
    "    sum += a\n",
    "    a = a - 1    \n",
    "    # print(\"i값\")\n",
    "    # print(i)\n",
    "    # print(\"a값\")\n",
    "    # print(a)\n",
    "    # print(\"sum값\")\n",
    "    # print(sum)\n",
    "    # print(\"===\")\n",
    "    \n",
    "print(sum)"
   ]
  },
  {
   "cell_type": "markdown",
   "metadata": {},
   "source": [
    "- - -\n",
    "`백준 25304` **영수증**  \n",
    "> 문제\n",
    "\n",
    "준원이는 저번 주에 살면서 처음으로 코스트코를 가 봤다. 정말 멋졌다. 그런데, 몇 개 담지도 않았는데 수상하게 높은 금액이 나오는 것이다! 준원이는 영수증을 보면서 정확하게 계산된 것이 맞는지 확인해보려 한다.  \n",
    "\n",
    "영수증에 적힌,\n",
    "\n",
    "* 구매한 각 물건의 가격과 개수\n",
    "* 구매한 물건들의 총 금액\n",
    "\n",
    "을 보고, 구매한 물건의 가격과 개수로 계산한 총 금액이 영수증에 적힌 총 금액과 일치하는지 검사해보자.\n",
    "\n",
    "> 입력\n",
    "\n",
    "첫째 줄에는 영수증에 적힌 총 금액 $X$가 주어진다.  \n",
    "\n",
    "둘째 줄에는 영수증에 적힌 구매한 물건의 종류의 수 $N$이 주어진다.  \n",
    "\n",
    "이후 $N$개의 줄에는 각 물건의 가격 $a$와 개수 $b$가 공백을 사이에 두고 주어진다. \n",
    "\n",
    "> 출력\n",
    "\n",
    "구매한 물건의 가격과 개수로 계산한 총 금액이 영수증에 적힌 총 금액과 일치하면 Yes를 출력한다. 일치하지 않는다면 No를 출력한다.  \n",
    "\n",
    "> 제한\n",
    "\n",
    " \n",
    "$1 ≤ X ≤ 1\\,000\\,000\\,000$  \n",
    "\n",
    "$1 ≤ N ≤ 100$  \n",
    "\n",
    "$1 ≤ a ≤ 1\\,000\\,000$  \n",
    "\n",
    "$1 ≤ b ≤ 10$ "
   ]
  },
  {
   "cell_type": "markdown",
   "metadata": {},
   "source": [
    "> 예제 입력 1\n",
    "\n",
    "260000  \n",
    "4  \n",
    "20000 5  \n",
    "30000 2  \n",
    "10000 6  \n",
    "5000 8  \n",
    "\n",
    "> 예제 출력 1\n",
    "\n",
    "Yes\n",
    "\n",
    "> 예제 입력 2\n",
    "\n",
    "250000  \n",
    "4  \n",
    "20000 5  \n",
    "30000 2  \n",
    "10000 6  \n",
    "5000 8  \n",
    "\n",
    "> 예제 출력 2\n",
    "\n",
    "No"
   ]
  },
  {
   "cell_type": "code",
   "execution_count": 23,
   "metadata": {},
   "outputs": [
    {
     "name": "stdout",
     "output_type": "stream",
     "text": [
      "No\n"
     ]
    }
   ],
   "source": [
    "total = int(input())\n",
    "n = int(input())\n",
    "sum = 0\n",
    "sum2 = 0\n",
    "\n",
    "for i in range(n) :\n",
    "    a, b = map(int, input().split())\n",
    "    sum = a * b\n",
    "    sum2 += sum\n",
    "\n",
    "if (total == sum2) :\n",
    "    print(\"Yes\")\n",
    "else :\n",
    "    print(\"No\")"
   ]
  },
  {
   "cell_type": "markdown",
   "metadata": {},
   "source": [
    "- - -\n",
    "`백준 25314` **코딩은 체육과목 입니다**  \n",
    "> 문제\n",
    "\n",
    "![이미지](https://u.acmicpc.net/ccbbee06-7e6f-4e56-bb9f-9a1abd795508/long-long-long-img1.png)\n",
    "\n",
    "오늘은 혜아의 면접 날이다. 면접 준비를 열심히 해서 앞선 질문들을 잘 대답한 혜아는 이제 마지막으로 칠판에 직접 코딩하는 문제를 받았다. 혜아가 받은 문제는 두 수를 더하는 문제였다. C++ 책을 열심히 읽었던 혜아는 간단히 두 수를 더하는 코드를 칠판에 적었다. 코드를 본 면접관은 다음 질문을 했다. “만약, 입출력이 $N$바이트 크기의 정수라면 프로그램을 어떻게 구현해야 할까요?”  \n",
    "\n",
    "혜아는 책에 있는 정수 자료형과 관련된 내용을 기억해 냈다. 책에는 long int는 \n",
    "$4$바이트 정수까지 저장할 수 있는 정수 자료형이고 long long int는 \n",
    "$8$바이트 정수까지 저장할 수 있는 정수 자료형이라고 적혀 있었다. 혜아는 이런 생각이 들었다. “int 앞에 long을 하나씩 더 붙일 때마다 \n",
    "$4$바이트씩 저장할 수 있는 공간이 늘어나는 걸까? 분명 long long long int는 \n",
    "$12$바이트, long long long long int는 \n",
    "$16$바이트까지 저장할 수 있는 정수 자료형일 거야!” 그렇게 혜아는 당황하는 면접관의 얼굴을 뒤로한 채 칠판에 정수 자료형을 써 내려가기 시작했다.  \n",
    "\n",
    "혜아가 \n",
    "$N$바이트 정수까지 저장할 수 있다고 생각해서 칠판에 쓴 정수 자료형의 이름은 무엇일까?\n",
    "\n",
    "> 입력\n",
    "\n",
    "첫 번째 줄에는 문제의 정수 \n",
    "$N$이 주어진다. \n",
    "$(4\\le N\\le 1\\, 000$; \n",
    "$N$은 \n",
    "$4$의 배수\n",
    "$)$ \n",
    "\n",
    "> 출력\n",
    "\n",
    "혜아가 \n",
    "$N$바이트 정수까지 저장할 수 있다고 생각하는 정수 자료형의 이름을 출력하여라.\n",
    "\n",
    "> 예제 입력 1\n",
    "\n",
    "4\n",
    "\n",
    "> 예제 출력 1\n",
    "\n",
    "long int\n",
    "\n",
    "> 예제 입력 2\n",
    "\n",
    "20\n",
    "\n",
    "> 예제 출력 2\n",
    "\n",
    "long long long long long int"
   ]
  },
  {
   "cell_type": "code",
   "execution_count": 32,
   "metadata": {},
   "outputs": [
    {
     "name": "stdout",
     "output_type": "stream",
     "text": [
      "long long long long long int\n"
     ]
    }
   ],
   "source": [
    "n = int(input())\n",
    "\n",
    "for i in range(n//4) :\n",
    "    print(\"long\", end=\" \")\n",
    "\n",
    "print(\"int\")"
   ]
  },
  {
   "cell_type": "markdown",
   "metadata": {},
   "source": [
    "- - -\n",
    "`백준 15552` **빠른 A+B**  \n",
    "> 문제\n",
    "\n",
    "본격적으로 for문 문제를 풀기 전에 주의해야 할 점이 있다. 입출력 방식이 느리면 여러 줄을 입력받거나 출력할 때 시간초과가 날 수 있다는 점이다.  \n",
    "\n",
    "C++을 사용하고 있고 cin/cout을 사용하고자 한다면, cin.tie(NULL)과 sync_with_stdio(false)를 둘 다 적용해 주고, endl 대신 개행문자(\\n)를 쓰자. 단, 이렇게 하면 더 이상 scanf/printf/puts/getchar/putchar 등 C의 입출력 방식을 사용하면 안 된다.  \n",
    "\n",
    "Java를 사용하고 있다면, Scanner와 System.out.println 대신 BufferedReader와 BufferedWriter를 사용할 수 있다. BufferedWriter.flush는 맨 마지막에 한 번만 하면 된다.\n",
    "\n",
    "Python을 사용하고 있다면, input 대신 sys.stdin.readline을 사용할 수 있다. 단, 이때는 맨 끝의 개행문자까지 같이 입력받기 때문에 문자열을 저장하고 싶을 경우 .rstrip()을 추가로 해 주는 것이 좋다.\n",
    "\n",
    "또한 입력과 출력 스트림은 별개이므로, 테스트케이스를 전부 입력받아서 저장한 뒤 전부 출력할 필요는 없다. 테스트케이스를 하나 받은 뒤 하나 출력해도 된다.\n",
    "\n",
    "자세한 설명 및 다른 언어의 경우는 이 글에 설명되어 있다.\n",
    "\n",
    "이 블로그 글에서 BOJ의 기타 여러 가지 팁을 볼 수 있다.\n",
    "\n",
    "> 입력\n",
    "\n",
    "첫 줄에 테스트케이스의 개수 T가 주어진다. T는 최대 1,000,000이다. 다음 T줄에는 각각 두 정수 A와 B가 주어진다. A와 B는 1 이상, 1,000 이하이다.\n",
    "\n",
    "> 출력\n",
    "\n",
    "각 테스트케이스마다 A+B를 한 줄에 하나씩 순서대로 출력한다.\n",
    "\n",
    "> 예제 입력 1\n",
    "\n",
    "5  \n",
    "1 1  \n",
    "12 34  \n",
    "5 500  \n",
    "40 60  \n",
    "1000 1000  \n",
    "\n",
    "> 예제 출력 1\n",
    "\n",
    "2  \n",
    "46  \n",
    "505  \n",
    "100  \n",
    "2000  "
   ]
  },
  {
   "cell_type": "markdown",
   "metadata": {},
   "source": [
    "sys.stdin.readline() 설명 블로그  \n",
    "[벨로그 링크](https://velog.io/@yeseolee/Python-%ED%8C%8C%EC%9D%B4%EC%8D%AC-%EC%9E%85%EB%A0%A5-%EC%A0%95%EB%A6%ACsys.stdin.readline)"
   ]
  },
  {
   "cell_type": "code",
   "execution_count": 1,
   "metadata": {},
   "outputs": [],
   "source": [
    "# Python을 사용하고 있다면,\n",
    "# input 대신 sys.stdin.readline을 사용할 수 있다.\n",
    "# 단, 이때는 맨 끝의 개행문자까지 같이 입력받기 때문에 문자열을 저장하고 싶을 경우\n",
    "# .rstrip()을 추가로 해 주는 것이 좋다.\n",
    "\n",
    "import sys\n",
    "\n",
    "T = int(input())\n",
    "\n",
    "for i in range(T) :\n",
    "    a, b = map(int, sys.stdin.readline().split())\n",
    "    print(a+b)"
   ]
  },
  {
   "cell_type": "markdown",
   "metadata": {},
   "source": [
    "- - -\n",
    "`백준 11021` **A+B - 7**  \n",
    "> 문제\n",
    "\n",
    "두 정수 A와 B를 입력받은 다음, A+B를 출력하는 프로그램을 작성하시오.\n",
    "\n",
    "> 입력\n",
    "\n",
    "첫째 줄에 테스트 케이스의 개수 T가 주어진다.\n",
    "\n",
    "각 테스트 케이스는 한 줄로 이루어져 있으며, 각 줄에 A와 B가 주어진다. (0 < A, B < 10)\n",
    "\n",
    "> 출력\n",
    "\n",
    "각 테스트 케이스마다 \"Case #x: \"를 출력한 다음, A+B를 출력한다. 테스트 케이스 번호는 1부터 시작한다.\n",
    "\n",
    "> 예제 입력 1\n",
    "\n",
    "5  \n",
    "1 1  \n",
    "2 3  \n",
    "3 4  \n",
    "9 8  \n",
    "5 2   \n",
    "\n",
    "> 예제 출력 1\n",
    "\n",
    "Case #1: 2  \n",
    "Case #2: 5  \n",
    "Case #3: 7  \n",
    "Case #4: 17  \n",
    "Case #5: 7  "
   ]
  },
  {
   "cell_type": "code",
   "execution_count": 2,
   "metadata": {},
   "outputs": [],
   "source": [
    "import sys\n",
    "\n",
    "T = int(input())\n",
    "\n",
    "for i in range(T):\n",
    "    a, b = map(int, sys.stdin.readline().split())\n",
    "    print(\"Case #%d : %d\" % (i+1, a+b))"
   ]
  },
  {
   "cell_type": "markdown",
   "metadata": {},
   "source": [
    "###### Jupyter에서 안돌아감 (.py 로 돌리기)"
   ]
  },
  {
   "cell_type": "markdown",
   "metadata": {},
   "source": [
    "- - -\n",
    "`백준 11021` **A+B - 8**  \n",
    "> 문제\n",
    "\n",
    "두 정수 A와 B를 입력받은 다음, A+B를 출력하는 프로그램을 작성하시오.\n",
    "\n",
    "> 입력\n",
    "\n",
    "첫째 줄에 테스트 케이스의 개수 T가 주어진다.\n",
    "\n",
    "각 테스트 케이스는 한 줄로 이루어져 있으며, 각 줄에 A와 B가 주어진다. (0 < A, B < 10)\n",
    "\n",
    "> 출력\n",
    "\n",
    "각 테스트 케이스마다 \"Case #x: A + B = C\" 형식으로 출력한다. x는 테스트 케이스 번호이고 1부터 시작하며, C는 A+B이다.\n",
    "\n",
    "> 예제 입력 1\n",
    "\n",
    "5  \n",
    "1 1  \n",
    "2 3  \n",
    "3 4  \n",
    "9 8  \n",
    "5 2   \n",
    "\n",
    "> 예제 출력 1\n",
    "\n",
    "Case #1: 1 + 1 = 2  \n",
    "Case #2: 2 + 3 = 5  \n",
    "Case #3: 3 + 4 = 7  \n",
    "Case #4: 9 + 8 = 17  \n",
    "Case #5: 5 + 2 = 7  "
   ]
  },
  {
   "cell_type": "code",
   "execution_count": 1,
   "metadata": {},
   "outputs": [],
   "source": [
    "import sys\n",
    "\n",
    "T = int(input())\n",
    "\n",
    "for i in range(T):\n",
    "    a, b = map(int, sys.stdin.readline().split())\n",
    "    print(\"Case #%d: %d + %d = %d\" %(i+1, a, b, a+b))"
   ]
  },
  {
   "cell_type": "markdown",
   "metadata": {},
   "source": [
    "###### Jupyter에서 안돌아감 (.py 로 돌리기)"
   ]
  },
  {
   "cell_type": "markdown",
   "metadata": {},
   "source": [
    "- - -\n",
    "`백준 2439` **별 찍기 - 2**  \n",
    "> 문제\n",
    "\n",
    "첫째 줄에는 별 1개, 둘째 줄에는 별 2개, N번째 줄에는 별 N개를 찍는 문제\n",
    "\n",
    "하지만, 오른쪽을 기준으로 정렬한 별(예제 참고)을 출력하시오.\n",
    "\n",
    "> 입력\n",
    "\n",
    "첫째 줄에 N(1 ≤ N ≤ 100)이 주어진다.\n",
    "\n",
    "> 출력\n",
    "\n",
    "첫째 줄부터 N번째 줄까지 차례대로 별을 출력한다.\n",
    "\n",
    "> 예제 입력 1\n",
    "\n",
    "5  \n",
    "\n",
    "> 예제 출력 1\n",
    "```txt\n",
    "    *\n",
    "   **\n",
    "  ***\n",
    " ****\n",
    "*****\n",
    "```"
   ]
  },
  {
   "cell_type": "code",
   "execution_count": 16,
   "metadata": {},
   "outputs": [
    {
     "name": "stdout",
     "output_type": "stream",
     "text": [
      "    *\n",
      "   **\n",
      "  ***\n",
      " ****\n",
      "*****\n"
     ]
    }
   ],
   "source": [
    "n = int(input())\n",
    "\n",
    "for i in range(1, n+1):\n",
    "    for j in range(n-i):\n",
    "        print(\" \", end=\"\")\n",
    "    print(\"*\", end=\"\")\n",
    "    for k in range (i-1) :\n",
    "        print(\"*\", end=\"\")\n",
    "    print(\"\")"
   ]
  },
  {
   "cell_type": "markdown",
   "metadata": {},
   "source": [
    "- - -\n",
    "`백준 10952` **A+B - 5**  \n",
    "> 문제\n",
    "\n",
    "두 정수 A와 B를 입력받은 다음, A+B를 출력하는 프로그램을 작성하시오.\n",
    "\n",
    "> 입력\n",
    "\n",
    "입력은 여러 개의 테스트 케이스로 이루어져 있다.\n",
    "\n",
    "각 테스트 케이스는 한 줄로 이루어져 있으며, 각 줄에 A와 B가 주어진다. (0 < A, B < 10)\n",
    "\n",
    "입력의 마지막에는 0 두 개가 들어온다.\n",
    "\n",
    "> 출력\n",
    "\n",
    "각 테스트 케이스마다 A+B를 출력한다.\n",
    "\n",
    "> 예제 입력 1\n",
    "\n",
    "```txt\n",
    "1 1\n",
    "2 3\n",
    "3 4\n",
    "9 8\n",
    "5 2\n",
    "0 0\n",
    "```\n",
    "\n",
    "> 예제 출력 1\n",
    "\n",
    "```txt\n",
    "2\n",
    "5\n",
    "7\n",
    "17\n",
    "7\n",
    "```"
   ]
  },
  {
   "cell_type": "code",
   "execution_count": null,
   "metadata": {},
   "outputs": [],
   "source": [
    "import sys\n",
    "\n",
    "while (True) :\n",
    "    a, b = map(int, sys.stdin.readline().split())\n",
    "\n",
    "    if a==0 and b==0:\n",
    "        break\n",
    "\n",
    "    print(a+b)\n",
    "    "
   ]
  },
  {
   "cell_type": "markdown",
   "metadata": {},
   "source": [
    "- - -\n",
    "`백준 10951` **A+B - 4**  (EOF에 대해 알아보세요 - 어려웠다)  \n",
    "> 문제\n",
    "\n",
    "두 정수 A와 B를 입력받은 다음, A+B를 출력하는 프로그램을 작성하시오.\n",
    "\n",
    "> 입력\n",
    "\n",
    "입력은 여러 개의 테스트 케이스로 이루어져 있다.\n",
    "\n",
    "각 테스트 케이스는 한 줄로 이루어져 있으며, 각 줄에 A와 B가 주어진다. (0 < A, B < 10)\n",
    "\n",
    "> 출력\n",
    "\n",
    "각 테스트 케이스마다 A+B를 출력한다.\n",
    "\n",
    "> 예제 입력 1\n",
    "\n",
    "```txt\n",
    "1 1\n",
    "2 3\n",
    "3 4\n",
    "9 8\n",
    "5 2\n",
    "```\n",
    "\n",
    "> 예제 출력 1\n",
    "\n",
    "```txt\n",
    "2\n",
    "5\n",
    "7\n",
    "17\n",
    "7\n",
    "```"
   ]
  },
  {
   "cell_type": "code",
   "execution_count": 17,
   "metadata": {},
   "outputs": [],
   "source": [
    "import sys\n",
    "\n",
    "while (True) :\n",
    "    try:\n",
    "        a, b = map(int, sys.stdin.readline().split())\n",
    "        print(a+b)\n",
    "    except ValueError:\n",
    "        break\n",
    "    "
   ]
  },
  {
   "cell_type": "markdown",
   "metadata": {},
   "source": [
    "EOF에 대한 글  \n",
    "[백준 링크](https://www.acmicpc.net/board/view/39199)  \n",
    "[sys.stdin.readline()의 EOF](https://www.acmicpc.net/board/view/122026)  "
   ]
  }
 ],
 "metadata": {
  "kernelspec": {
   "display_name": "Python 3",
   "language": "python",
   "name": "python3"
  },
  "language_info": {
   "codemirror_mode": {
    "name": "ipython",
    "version": 3
   },
   "file_extension": ".py",
   "mimetype": "text/x-python",
   "name": "python",
   "nbconvert_exporter": "python",
   "pygments_lexer": "ipython3",
   "version": "3.9.13"
  }
 },
 "nbformat": 4,
 "nbformat_minor": 2
}
