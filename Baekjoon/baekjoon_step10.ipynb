{
 "cells": [
  {
   "cell_type": "markdown",
   "metadata": {},
   "source": [
    "### 백준 10단계\n",
    "#### 기하: 직사각형과 삼각형\n",
    "\n",
    "> jupyter 에서는 stdin 이 제대로 구성되어 있지 않기 때문에 stdin.readline() 을 실행하면 입력을 받지 못하고 항상 빈 문자열이 반환됩니다.  \n",
    "> sydin.readline() 대신에 input() 을 사용해야 합니다."
   ]
  },
  {
   "cell_type": "markdown",
   "metadata": {},
   "source": [
    "---\n",
    "\n",
    "`백준 15894` **수학은 체육과목 입니다**  \n",
    "> 문제  \n",
    "\n",
    "성원이는 수학을 정말 못 하는 고등학생이다. 수학을 못하는 대신 근성과 팔 힘이 뛰어난 성원이는 수학 시험에서 수학 지식을 사용하지 않고 근성과 체력을 사용해 문제를 푼다. 지난 시험에서는 아래 사진에 나와있는 문제를 근성과 체력을 사용해 열심히 풀었지만 사진에서 볼 수 있듯이 틀려버리고 말았다!\n",
    "\n",
    "![img](https://upload.acmicpc.net/8f346caa-48f9-4e98-afcd-1aedbce594f4/-/preview/)\n",
    "\n",
    "결국 이 문제는 틀려버렸지만 성원이는 여전히 자신의 체력에 강한 자신감을 갖고 있다. 어떤 어려운 문제가 나와도 이런 식으로 근성과 체력을 사용하면 다 풀 수 있으니 이 방법은 최고의 방법이라고 생각하고 있다.\n",
    "\n",
    "성원이의 친구 형석이는 근성과 체력으로 수학 문제를 푸는 것은 굉장히 무식한 방법이라고 생각한다. 형석이는 수학을 공부하면 문제를 훨씬 빨리 풀 수 있다는 것을 알려주기 위해 위 사진에 나와있는 문제를 갖고 성원이와 퀴즈 내기를 하기로 했다. 위 사진의 문제를 다시 정리하면 아래와 같다.\n",
    "\n",
    "\"한 변의 길이가 1인 정사각형을 아래 그림과 같이 겹치지 않게 빈틈없이 계속 붙여 나간다. 가장 아랫부분의 정사각형이 n개가 되었을 때, 실선으로 이루어진 도형의 둘레의 길이를 구하시오.\"\n",
    "\n",
    "![IMG](https://upload.acmicpc.net/5b7d2e93-e324-40c8-a274-0104750d6c43/-/preview/)\n",
    "\n",
    "\n",
    "가장 아랫부분의 정사각형 개수가 주어지면 그에 해당하는 답을 출력하는 프로그램을 만들어 형석이를 도와주자!\n",
    "\n",
    "> 입력  \n",
    "\n",
    "첫 번째 줄에 가장 아랫부분의 정사각형 개수 n이 주어진다. (1 ≤ n ≤ 109)\n",
    "\n",
    "> 출력\n",
    "\n",
    "첫 번째 줄에 형석이가 말해야 하는 답을 출력한다.\n",
    "\n",
    "> 예시 입력 1\n",
    "```txt\n",
    "1\n",
    "```\n",
    "\n",
    "> 예시 출력 1\n",
    "```txt\n",
    "4\n",
    "```\n"
   ]
  },
  {
   "cell_type": "code",
   "execution_count": null,
   "metadata": {},
   "outputs": [],
   "source": [
    "T = int(input())\n",
    "\n",
    "print(4*T)"
   ]
  },
  {
   "cell_type": "markdown",
   "metadata": {},
   "source": [
    "---\n",
    "\n",
    "`백준 5073` **삼각형과 세 변**  \n",
    "> 문제  \n",
    "\n",
    "삼각형의 세 변의 길이가 주어질 때 변의 길이에 따라 다음과 같이 정의한다.\n",
    "\n",
    "- Equilateral :  세 변의 길이가 모두 같은 경우\n",
    "- Isosceles : 두 변의 길이만 같은 경우\n",
    "- Scalene : 세 변의 길이가 모두 다른 경우\n",
    "  \n",
    "단 주어진 세 변의 길이가 삼각형의 조건을 만족하지 못하는 경우에는 \"Invalid\" 를 출력한다. 예를 들어 6, 3, 2가 이 경우에 해당한다. 가장 긴 변의 길이보다 나머지 두 변의 길이의 합이 길지 않으면 삼각형의 조건을 만족하지 못한다.\n",
    "\n",
    "세 변의 길이가 주어질 때 위 정의에 따른 결과를 출력하시오.\n",
    "\n",
    "> 입력  \n",
    "\n",
    "각 줄에는 1,000을 넘지 않는 양의 정수 3개가 입력된다. 마지막 줄은 0 0 0이며 이 줄은 계산하지 않는다.\n",
    "\n",
    "> 출력\n",
    "\n",
    "각 입력에 맞는 결과 (Equilateral, Isosceles, Scalene, Invalid) 를 출력하시오.\n",
    "\n",
    "> 예시 입력 1\n",
    "```txt\n",
    "7 7 7\n",
    "6 5 4\n",
    "3 2 5\n",
    "6 2 6\n",
    "0 0 0\n",
    "```\n",
    "\n",
    "> 예시 출력 1\n",
    "```txt\n",
    "Equilateral\n",
    "Scalene\n",
    "Invalid\n",
    "Isosceles\n",
    "```\n"
   ]
  },
  {
   "cell_type": "code",
   "execution_count": 11,
   "metadata": {},
   "outputs": [
    {
     "name": "stdout",
     "output_type": "stream",
     "text": [
      "Equilateral\n",
      "Scalene\n",
      "Invalid\n",
      "Isosceles\n"
     ]
    },
    {
     "ename": "IndexError",
     "evalue": "list index out of range",
     "output_type": "error",
     "traceback": [
      "\u001b[1;31m---------------------------------------------------------------------------\u001b[0m",
      "\u001b[1;31mIndexError\u001b[0m                                Traceback (most recent call last)",
      "Cell \u001b[1;32mIn[11], line 13\u001b[0m\n\u001b[0;32m     10\u001b[0m lst \u001b[38;5;241m=\u001b[39m \u001b[38;5;28mlist\u001b[39m(\u001b[38;5;28mmap\u001b[39m(\u001b[38;5;28mint\u001b[39m, \u001b[38;5;28minput\u001b[39m()\u001b[38;5;241m.\u001b[39msplit()))\n\u001b[0;32m     11\u001b[0m lst\u001b[38;5;241m.\u001b[39msort()\n\u001b[1;32m---> 13\u001b[0m \u001b[38;5;28;01mif\u001b[39;00m \u001b[43mlst\u001b[49m\u001b[43m[\u001b[49m\u001b[38;5;241;43m2\u001b[39;49m\u001b[43m]\u001b[49m \u001b[38;5;241m==\u001b[39m \u001b[38;5;241m0\u001b[39m:\n\u001b[0;32m     14\u001b[0m     \u001b[38;5;28;01mbreak\u001b[39;00m\n\u001b[0;32m     16\u001b[0m \u001b[38;5;28;01mif\u001b[39;00m lst[\u001b[38;5;241m0\u001b[39m] \u001b[38;5;241m+\u001b[39m lst[\u001b[38;5;241m1\u001b[39m] \u001b[38;5;241m<\u001b[39m\u001b[38;5;241m=\u001b[39m lst[\u001b[38;5;241m2\u001b[39m]:\n",
      "\u001b[1;31mIndexError\u001b[0m: list index out of range"
     ]
    }
   ],
   "source": [
    "# a+b > c\n",
    "lst = []\n",
    "\n",
    "while True:\n",
    "    lst = list(map(int, input().split()))\n",
    "    lst.sort()\n",
    "    \n",
    "    if lst[2] == 0:\n",
    "        break\n",
    "\n",
    "    if lst[0] + lst[1] <= lst[2]:\n",
    "        print('Invalid')\n",
    "    else:\n",
    "        if lst[0] == lst[1] == lst[2]:\n",
    "            print('Equilateral')\n",
    "        elif lst[0] == lst[1] and lst[1] != lst[2]:\n",
    "            print('Isosceles')\n",
    "        elif lst[1] == lst[2] and lst[1] != lst[0]:\n",
    "            print('Isosceles')\n",
    "        else:\n",
    "            print('Scalene')\n"
   ]
  }
 ],
 "metadata": {
  "kernelspec": {
   "display_name": "Python 3",
   "language": "python",
   "name": "python3"
  },
  "language_info": {
   "codemirror_mode": {
    "name": "ipython",
    "version": 3
   },
   "file_extension": ".py",
   "mimetype": "text/x-python",
   "name": "python",
   "nbconvert_exporter": "python",
   "pygments_lexer": "ipython3",
   "version": "3.12.4"
  }
 },
 "nbformat": 4,
 "nbformat_minor": 2
}
