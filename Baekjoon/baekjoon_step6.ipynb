{
 "cells": [
  {
   "cell_type": "markdown",
   "metadata": {},
   "source": [
    "### 백준 6단계\n",
    "#### 심화 1\n",
    "\n",
    "> jupyter 에서는 stdin 이 제대로 구성되어 있지 않기 때문에 stdin.readline() 을 실행하면 입력을 받지 못하고 항상 빈 문자열이 반환됩니다.  \n",
    "> sydin.readline() 대신에 input() 을 사용해야 합니다."
   ]
  },
  {
   "cell_type": "markdown",
   "metadata": {},
   "source": [
    "---\n",
    "\n",
    "`백준 25083` **새싹**  \n",
    "> 문제  \n",
    "\n",
    "아래 예제와 같이 새싹을 출력하시오.\n",
    "\n",
    "> 입력  \n",
    "\n",
    "입력은 없다.\n",
    "\n",
    "> 출력\n",
    "\n",
    "새싹을 출력한다.\n",
    "\n",
    "> 예시 입력 1\n",
    "```txt\n",
    "입력\n",
    "```\n",
    "\n",
    "> 예시 출력 1\n",
    "```txt\n",
    "         ,r'\"7\n",
    "r`-_   ,'  ,/\n",
    " \\. \". L_r'\n",
    "   `~\\/\n",
    "      |\n",
    "      |\n",
    "```\n"
   ]
  },
  {
   "cell_type": "code",
   "execution_count": 15,
   "metadata": {},
   "outputs": [
    {
     "name": "stdout",
     "output_type": "stream",
     "text": [
      "         ,r'\"7\n",
      "r`-_   ,'  ,/\n",
      " \\. \". L_r'\n",
      "   `~\\/\n",
      "      |\n",
      "      |\n"
     ]
    }
   ],
   "source": [
    "print('         ,r\\'\\\"7')\n",
    "print(\"r`-_   ,\\'  ,/\")\n",
    "print(' \\\\. \\\". L_r\\'')\n",
    "print('   `~\\\\/')\n",
    "print('      |')\n",
    "print('      |')"
   ]
  },
  {
   "cell_type": "markdown",
   "metadata": {},
   "source": [
    "---\n",
    "\n",
    "`백준 3003` **킹, 퀸, 룩, 비숍, 나이트, 폰**  \n",
    "> 문제  \n",
    "\n",
    "동혁이는 오래된 창고를 뒤지다가 낡은 체스판과 피스를 발견했다.\n",
    "\n",
    "체스판의 먼지를 털어내고 걸레로 닦으니 그럭저럭 쓸만한 체스판이 되었다. 하지만, 검정색 피스는 모두 있었으나, 흰색 피스는 개수가 올바르지 않았다.\n",
    "\n",
    "체스는 총 16개의 피스를 사용하며, 킹 1개, 퀸 1개, 룩 2개, 비숍 2개, 나이트 2개, 폰 8개로 구성되어 있다.\n",
    "\n",
    "동혁이가 발견한 흰색 피스의 개수가 주어졌을 때, 몇 개를 더하거나 빼야 올바른 세트가 되는지 구하는 프로그램을 작성하시오.\n",
    "\n",
    "> 입력  \n",
    "\n",
    "첫째 줄에 동혁이가 찾은 흰색 킹, 퀸, 룩, 비숍, 나이트, 폰의 개수가 주어진다. 이 값은 0보다 크거나 같고 10보다 작거나 같은 정수이다.\n",
    "\n",
    "> 출력\n",
    "\n",
    "첫째 줄에 입력에서 주어진 순서대로 몇 개의 피스를 더하거나 빼야 되는지를 출력한다. 만약 수가 양수라면 동혁이는 그 개수 만큼 피스를 더해야 하는 것이고, 음수라면 제거해야 하는 것이다.\n",
    "\n",
    "> 예시 입력 1\n",
    "```txt\n",
    "0 1 2 2 2 7\n",
    "```\n",
    "\n",
    "> 예시 출력 1\n",
    "```txt\n",
    "1 0 0 0 0 1\n",
    "```\n"
   ]
  },
  {
   "cell_type": "code",
   "execution_count": 17,
   "metadata": {},
   "outputs": [
    {
     "name": "stdout",
     "output_type": "stream",
     "text": [
      "-1 0 0 1 0 7\n"
     ]
    }
   ],
   "source": [
    "king, queen, rook, bishop, knight, pawn = map(int, input().split())\n",
    "ak, aq, ar, ab, akn, ap = 1, 1, 2, 2, 2, 8\n",
    "print(ak-king, aq-queen, ar-rook, ab-bishop, akn-knight, ap-pawn)\n"
   ]
  },
  {
   "cell_type": "markdown",
   "metadata": {},
   "source": [
    "---\n",
    "\n",
    "`백준 2444` **별 찍기 -7**  \n",
    "> 문제  \n",
    "\n",
    "예제를 보고 규칙을 유추한 뒤에 별을 찍어 보세요.\n",
    "\n",
    "> 입력  \n",
    "\n",
    "첫째 줄에 N(1 ≤ N ≤ 100)이 주어진다.\n",
    "\n",
    "> 출력\n",
    "\n",
    "첫째 줄부터 2×N-1번째 줄까지 차례대로 별을 출력한다.\n",
    "\n",
    "> 예시 입력 1\n",
    "```txt\n",
    "5\n",
    "```\n",
    "\n",
    "> 예시 출력 1\n",
    "```txt\n",
    "    *\n",
    "   ***\n",
    "  *****\n",
    " *******\n",
    "*********\n",
    " *******\n",
    "  *****\n",
    "   ***\n",
    "    *\n",
    "```\n"
   ]
  },
  {
   "cell_type": "code",
   "execution_count": 31,
   "metadata": {},
   "outputs": [
    {
     "name": "stdout",
     "output_type": "stream",
     "text": [
      "    *\n",
      "   ***\n",
      "  *****\n",
      " *******\n",
      "*********\n",
      " *******\n",
      "  *****\n",
      "   ***\n",
      "    *\n"
     ]
    }
   ],
   "source": [
    "T = int(input())\n",
    "\n",
    "for i in range(1, T+1):\n",
    "    print(' ' * (T-i), '*'*(2*i-1), sep='')\n",
    "for j in range(1, T):\n",
    "    print(' ' * (j) + '*'*((2*T-1)-2*j), sep='')"
   ]
  },
  {
   "cell_type": "markdown",
   "metadata": {},
   "source": [
    "---\n",
    "\n",
    "`백준 10988` **팰린드롬인지 확인하기**  \n",
    "> 문제  \n",
    "\n",
    "문제\n",
    "\n",
    "> 입력  \n",
    "\n",
    "입력\n",
    "\n",
    "> 출력\n",
    "\n",
    "출력\n",
    "\n",
    "> 예시 입력 1\n",
    "```txt\n",
    "입력\n",
    "```\n",
    "\n",
    "> 예시 출력 1\n",
    "```txt\n",
    "출력\n",
    "```\n"
   ]
  },
  {
   "cell_type": "markdown",
   "metadata": {},
   "source": [
    "---\n",
    "\n",
    "`백준 1157` **단어 공부**  \n",
    "> 문제  \n",
    "\n",
    "문제\n",
    "\n",
    "> 입력  \n",
    "\n",
    "입력\n",
    "\n",
    "> 출력\n",
    "\n",
    "출력\n",
    "\n",
    "> 예시 입력 1\n",
    "```txt\n",
    "입력\n",
    "```\n",
    "\n",
    "> 예시 출력 1\n",
    "```txt\n",
    "출력\n",
    "```\n"
   ]
  },
  {
   "cell_type": "markdown",
   "metadata": {},
   "source": [
    "---\n",
    "\n",
    "`백준 2941` **크로아티아 알파벳**  \n",
    "> 문제  \n",
    "\n",
    "문제\n",
    "\n",
    "> 입력  \n",
    "\n",
    "입력\n",
    "\n",
    "> 출력\n",
    "\n",
    "출력\n",
    "\n",
    "> 예시 입력 1\n",
    "```txt\n",
    "입력\n",
    "```\n",
    "\n",
    "> 예시 출력 1\n",
    "```txt\n",
    "출력\n",
    "```\n"
   ]
  },
  {
   "cell_type": "markdown",
   "metadata": {},
   "source": [
    "---\n",
    "\n",
    "`백준 1316` **그룹 단어 체커**  \n",
    "> 문제  \n",
    "\n",
    "문제\n",
    "\n",
    "> 입력  \n",
    "\n",
    "입력\n",
    "\n",
    "> 출력\n",
    "\n",
    "출력\n",
    "\n",
    "> 예시 입력 1\n",
    "```txt\n",
    "입력\n",
    "```\n",
    "\n",
    "> 예시 출력 1\n",
    "```txt\n",
    "출력\n",
    "```\n"
   ]
  },
  {
   "cell_type": "markdown",
   "metadata": {},
   "source": [
    "---\n",
    "\n",
    "`백준 25206` **너의 평점은**  \n",
    "> 문제  \n",
    "\n",
    "문제\n",
    "\n",
    "> 입력  \n",
    "\n",
    "입력\n",
    "\n",
    "> 출력\n",
    "\n",
    "출력\n",
    "\n",
    "> 예시 입력 1\n",
    "```txt\n",
    "입력\n",
    "```\n",
    "\n",
    "> 예시 출력 1\n",
    "```txt\n",
    "출력\n",
    "```\n"
   ]
  }
 ],
 "metadata": {
  "kernelspec": {
   "display_name": "Python 3",
   "language": "python",
   "name": "python3"
  },
  "language_info": {
   "codemirror_mode": {
    "name": "ipython",
    "version": 3
   },
   "file_extension": ".py",
   "mimetype": "text/x-python",
   "name": "python",
   "nbconvert_exporter": "python",
   "pygments_lexer": "ipython3",
   "version": "3.12.4"
  }
 },
 "nbformat": 4,
 "nbformat_minor": 2
}
