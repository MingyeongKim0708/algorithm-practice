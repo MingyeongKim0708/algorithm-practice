{
 "cells": [
  {
   "cell_type": "markdown",
   "metadata": {},
   "source": [
    "### 백준 6단계\n",
    "#### 심화 1\n",
    "\n",
    "> jupyter 에서는 stdin 이 제대로 구성되어 있지 않기 때문에 stdin.readline() 을 실행하면 입력을 받지 못하고 항상 빈 문자열이 반환됩니다.  \n",
    "> sydin.readline() 대신에 input() 을 사용해야 합니다."
   ]
  },
  {
   "cell_type": "markdown",
   "metadata": {},
   "source": [
    "---\n",
    "\n",
    "`백준 00` **이름**  \n",
    "> 문제  \n",
    "\n",
    "문제\n",
    "\n",
    "> 입력  \n",
    "\n",
    "입력\n",
    "\n",
    "> 출력\n",
    "\n",
    "출력\n",
    "\n",
    "> 예시 입력 1\n",
    "```txt\n",
    "입력\n",
    "```\n",
    "\n",
    "> 예시 출력 1\n",
    "```txt\n",
    "출력\n",
    "```\n"
   ]
  }
 ],
 "metadata": {
  "kernelspec": {
   "display_name": "Python 3",
   "language": "python",
   "name": "python3"
  },
  "language_info": {
   "codemirror_mode": {
    "name": "ipython",
    "version": 3
   },
   "file_extension": ".py",
   "mimetype": "text/x-python",
   "name": "python",
   "nbconvert_exporter": "python",
   "pygments_lexer": "ipython3",
   "version": "3.12.4"
  }
 },
 "nbformat": 4,
 "nbformat_minor": 2
}
